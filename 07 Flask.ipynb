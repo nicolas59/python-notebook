{
 "cells": [
  {
   "cell_type": "markdown",
   "id": "ce52135a-6bf6-4eb0-96d1-04749a561a5b",
   "metadata": {
    "tags": []
   },
   "source": [
    "# Introduction à Flask"
   ]
  },
  {
   "cell_type": "markdown",
   "id": "f10a09b8-3c67-4dda-a8d8-7e497935619a",
   "metadata": {},
   "source": [
    "## Création du projet"
   ]
  },
  {
   "cell_type": "markdown",
   "id": "26ed35a1-d397-4987-94c3-b3e95f10587f",
   "metadata": {},
   "source": [
    "1. Créer un repertoire todos\n",
    "2. Créer un environnement virtuel sur le repertoire todos\n",
    "3. Aller dans le repertoire todos"
   ]
  },
  {
   "cell_type": "markdown",
   "id": "75095d25-9c3d-4461-b391-49963f1c1f11",
   "metadata": {
    "tags": []
   },
   "source": [
    "## Installation"
   ]
  },
  {
   "cell_type": "markdown",
   "id": "364c9d7d-8348-465a-b7ea-39ae2c3d1af0",
   "metadata": {},
   "source": [
    "Nous allons utiliser le framework [Flask](https://flask.palletsprojects.com/en/2.0.x/). Flask est un framework léger permettant de créer une application web. Il n'impose pas aucune architecture particuliere et permet une prise en main rapide."
   ]
  },
  {
   "cell_type": "raw",
   "id": "b6d2de63-180f-4309-af7d-dc4b6a20fd6c",
   "metadata": {},
   "source": [
    "pip install Flask"
   ]
  },
  {
   "cell_type": "markdown",
   "id": "28130d6c-a593-41cd-a4a8-f64c93b04771",
   "metadata": {
    "tags": []
   },
   "source": [
    "## Pour commencer un hello world"
   ]
  },
  {
   "cell_type": "markdown",
   "id": "ac06ef58-176e-4e83-a0fa-38f09cc196d9",
   "metadata": {},
   "source": [
    "- Créer un fichier app.py à la racine du projet"
   ]
  },
  {
   "cell_type": "code",
   "execution_count": null,
   "id": "e7dabd3e-4c58-4920-84ce-2c131802970f",
   "metadata": {
    "tags": []
   },
   "outputs": [],
   "source": [
    "from flask import Flask\n",
    "\n",
    "app = Flask(__name__)\n",
    "\n",
    "@app.route(\"/\")\n",
    "def hello():\n",
    "    return \"hello world !!\""
   ]
  },
  {
   "cell_type": "markdown",
   "id": "27eae5d0-fd84-4943-9318-859a1c81863e",
   "metadata": {},
   "source": [
    "*@app.route* est un décorateur. Le decourateur *route* permet d'associer une métode à une url. Les méthodes http supportées par défaut sont GET / HEAD et OPTION. \n",
    "\n",
    "Ainsi, dans notre exemple, l'url http://localhost:5000 sera associée à la méthode **hello**"
   ]
  },
  {
   "cell_type": "markdown",
   "id": "4708fd9f-9eb8-4b59-99ad-c32df9dd26d0",
   "metadata": {},
   "source": [
    "Ajouter les variables d'environnement suivantes :"
   ]
  },
  {
   "cell_type": "markdown",
   "id": "f9979684-bdfa-4df0-a520-499569d3e7f4",
   "metadata": {},
   "source": [
    "$ export FLASK_APP=app.py\n",
    "\n",
    "$ export FLASK_ENV=development"
   ]
  },
  {
   "cell_type": "markdown",
   "id": "810cb9e2-f0f4-4ffc-9abc-b8668eb3c7d3",
   "metadata": {},
   "source": [
    "Pour executer l'application, executer la commande : "
   ]
  },
  {
   "cell_type": "markdown",
   "id": "690d3e07-11d7-47ca-a878-a4c49f19695d",
   "metadata": {},
   "source": [
    "$ flask run"
   ]
  },
  {
   "cell_type": "code",
   "execution_count": null,
   "id": "081cb82d-b4b6-4ca9-9f78-b41400bc578d",
   "metadata": {},
   "outputs": [],
   "source": []
  }
 ],
 "metadata": {
  "kernelspec": {
   "display_name": "Python 3 (ipykernel)",
   "language": "python",
   "name": "python3"
  },
  "language_info": {
   "codemirror_mode": {
    "name": "ipython",
    "version": 3
   },
   "file_extension": ".py",
   "mimetype": "text/x-python",
   "name": "python",
   "nbconvert_exporter": "python",
   "pygments_lexer": "ipython3",
   "version": "3.8.3"
  }
 },
 "nbformat": 4,
 "nbformat_minor": 5
}
