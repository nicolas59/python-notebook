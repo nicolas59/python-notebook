{
 "cells": [
  {
   "cell_type": "markdown",
   "id": "b816cc01-c4e9-49d0-9de9-6cf056d4d32b",
   "metadata": {},
   "source": [
    "# Base de données"
   ]
  },
  {
   "cell_type": "markdown",
   "id": "795c3b2a-a8bc-441f-b237-7be47cd2ba53",
   "metadata": {
    "tags": []
   },
   "source": [
    "## connexion"
   ]
  },
  {
   "cell_type": "markdown",
   "id": "62e2ea20-c641-41c4-83aa-3594dc42a157",
   "metadata": {},
   "source": [
    "La méthode `connect` permet d’obtenir une connexion à la base de données\n",
    "\n",
    "En fonction du sgbd, les paramètres peuvent varier mais le plus souvent :\n",
    "- host : \t\tnom du serveur\n",
    "- dbname \t\tnom de la base de données\n",
    "- user \t\tutilisateur réalisant la connexion\n",
    "- password  \tmot de passe  \n",
    "\n",
    "Apres utilisation, un connexion doit être fermé via la méthode `close`\n"
   ]
  },
  {
   "cell_type": "markdown",
   "id": "e9fe073b-4a0c-4436-831b-f37d1cf3a6b8",
   "metadata": {},
   "source": [
    "### SQLLite"
   ]
  },
  {
   "cell_type": "code",
   "execution_count": 5,
   "id": "47a6a4b0-1c06-4085-9891-12370fd211ee",
   "metadata": {},
   "outputs": [],
   "source": [
    "import sqlite3\n",
    "conn = sqlite3.connect('bd.db')\n",
    "conn.close()"
   ]
  },
  {
   "cell_type": "markdown",
   "id": "12521d9c-248a-4cc7-b129-f34c4bbcc011",
   "metadata": {},
   "source": [
    "### Postgres"
   ]
  },
  {
   "cell_type": "code",
   "execution_count": 17,
   "id": "2e4924d1-0cdf-4267-b53a-5384c9c18f43",
   "metadata": {
    "tags": []
   },
   "outputs": [],
   "source": [
    "import psycopg2\n",
    "conn = psycopg2.connect(host=\"127.0.0.1\",\n",
    "                        dbname=\"demo\",\n",
    "                        user=\"user\",\n",
    "                        password=\"secret\")\n",
    "\n",
    "\n",
    "conn.close()"
   ]
  },
  {
   "cell_type": "markdown",
   "id": "c684d9e7-1a23-4cd8-8e3f-00feabdfabb0",
   "metadata": {},
   "source": [
    "# Mysql"
   ]
  },
  {
   "cell_type": "code",
   "execution_count": 18,
   "id": "11aaea31-1010-4bf6-866d-549547b451cf",
   "metadata": {},
   "outputs": [
    {
     "name": "stdout",
     "output_type": "stream",
     "text": [
      ">> creation de la table PERSONNE\n"
     ]
    }
   ],
   "source": [
    "\n",
    "import mysql.connector as database\n",
    "connection = database.connect(\n",
    "    user=\"user\",\n",
    "    password=\"secret\",\n",
    "    host=\"localhost\",\n",
    "    database=\"demo\")\n",
    "\n",
    "connection.close()\n"
   ]
  },
  {
   "cell_type": "markdown",
   "id": "21db8d8e-4993-48d6-8d54-3d122b3a8825",
   "metadata": {},
   "source": [
    "# Création d'une table"
   ]
  },
  {
   "cell_type": "code",
   "execution_count": 4,
   "id": "e0043787-08da-43c5-92cc-95996232e1b1",
   "metadata": {},
   "outputs": [],
   "source": [
    "import sqlite3\n",
    "conn = sqlite3.connect('bd.db')\n",
    "\n",
    "cursor = conn.cursor()\n",
    "cursor.execute(\"\"\"\n",
    "            create table IF NOT EXISTS PERSONNE(\n",
    "                id INTEGER  PRIMARY KEY  AUTOINCREMENT,\n",
    "                nom VARCHAR(100),\n",
    "                prenom VARCHAR(100),\n",
    "                date_naissance VARCHAR(10)\n",
    "            )\n",
    "            \"\"\")\n",
    "conn.close()"
   ]
  },
  {
   "cell_type": "markdown",
   "id": "733ff3a2-6925-4c49-8f53-88e69b421a12",
   "metadata": {},
   "source": [
    "## Insérer des donnnées"
   ]
  },
  {
   "cell_type": "code",
   "execution_count": 28,
   "id": "e09cd14b-ca14-4ab7-8d32-f2950759da06",
   "metadata": {},
   "outputs": [],
   "source": [
    "import sqlite3\n",
    "conn = sqlite3.connect('bd.db')\n",
    "\n",
    "cursor = conn.cursor()\n",
    "cursor.execute(\"delete from personne\")\n",
    "cursor.execute(\"\"\"\n",
    "                insert into personne(nom, prenom, date_naissance) values (\n",
    "                :nom, :prenom,:date_naissance);\n",
    "            \"\"\", guido)\n",
    "\n",
    "\n",
    "cursor.execute(\"\"\"\n",
    "                insert into personne(nom, prenom, date_naissance) values (\n",
    "                ?, ?, ?);\n",
    "            \"\"\", (\"James\", \"Gosling\", \"19/06/1955\"))\n",
    "\n",
    "conn.commit()\n",
    "conn.close()"
   ]
  },
  {
   "cell_type": "markdown",
   "id": "32ea0f0f-d2dd-45f7-b6b2-7111347d6fdd",
   "metadata": {
    "tags": []
   },
   "source": [
    "## Récupérer des données"
   ]
  },
  {
   "cell_type": "markdown",
   "id": "da8481c6-786a-4b43-b684-29a968e291d9",
   "metadata": {},
   "source": [
    "Exécuter la requête de sélection en utilisant la méthode « execute  »\n",
    "\n",
    "Pour récupérer les données, il faut utiliser une des méthodes suivantes : \n",
    "- `fetchone` pour récupérer un seul enregistrement\n",
    "- `fetchall` pour récupérer un ensemble de lignes\n",
    "- `fetchmany` : resemble à la méthode fecthall sauf que la méthode ne charge en mémoire qu’un ensemble des résultats\n"
   ]
  },
  {
   "cell_type": "code",
   "execution_count": 30,
   "id": "c8e2735b-f746-45fa-8e2d-2b8c14fafa6e",
   "metadata": {},
   "outputs": [
    {
     "name": "stdout",
     "output_type": "stream",
     "text": [
      "(1, 'Guido', 'van Rossum', '31/01/1956')\n",
      "(2, 'James', 'Gosling', '19/06/1955')\n"
     ]
    }
   ],
   "source": [
    "conn = sqlite3.connect('bd.db')\n",
    "\n",
    "cursor = conn.cursor()\n",
    "\n",
    "cursor.execute(\"select * from personne\")\n",
    "rs = cursor.fetchall()\n",
    "print(*rs, sep=\"\\n\")\n",
    "\n",
    "conn.close()\n"
   ]
  },
  {
   "cell_type": "markdown",
   "id": "36e2e995-603a-4cbc-98b7-8da8807de89d",
   "metadata": {},
   "source": [
    "On constate que le résultat est retourné sous la forme d'un tableau ne contenant uniquement que les données. Il est souvent préférable de récupérer le nom des colonnes associé à chaque données.\n",
    "\n",
    "Il suffit d'indiquer la factory pour le curseur."
   ]
  },
  {
   "cell_type": "code",
   "execution_count": 39,
   "id": "3c5c3573-f882-4baf-b9fa-930ce0dcccf5",
   "metadata": {},
   "outputs": [
    {
     "name": "stdout",
     "output_type": "stream",
     "text": [
      "id : 1\n",
      "nom : Guido\n",
      "prenom : van Rossum\n",
      "date_naissance : 31/01/1956\n",
      "-------\n",
      "id : 2\n",
      "nom : James\n",
      "prenom : Gosling\n",
      "date_naissance : 19/06/1955\n",
      "-------\n"
     ]
    }
   ],
   "source": [
    "conn = sqlite3.connect('bd.db')\n",
    "cursor = conn.cursor()\n",
    "cursor.row_factory = sqlite3.Row\n",
    "\n",
    "cursor.execute(\"select * from personne\")\n",
    "rs = cursor.fetchall()\n",
    "for result in rs:\n",
    "    for key in result.keys():\n",
    "        print(\"{} : {}\".format(key, result[key]))\n",
    "    print(\"-------\")\n",
    "\n",
    "conn.close()"
   ]
  },
  {
   "cell_type": "markdown",
   "id": "4a33e89d-7cb6-46d9-bff7-b6d369deced8",
   "metadata": {},
   "source": [
    "## Gestion des transactions"
   ]
  },
  {
   "cell_type": "markdown",
   "id": "8e53c75d-c0c4-4b8f-bfbb-338d06b4aa63",
   "metadata": {},
   "source": [
    "En cas d’erreur, il est nécessaire d’invalider la transaction. \n",
    "\n",
    "La méthode « rollback »permet d’annuler les requêtes d’insertion, de mise à jour ou de suppression exécuter sur le SGBD\n",
    "\n",
    "En utilisant le mot clé try / except / finally\n"
   ]
  },
  {
   "cell_type": "code",
   "execution_count": 40,
   "id": "040d739d-12e9-41a6-b5a0-6f9d14d2706f",
   "metadata": {},
   "outputs": [],
   "source": [
    "conn = None\n",
    "try:\n",
    "    conn = sqlite3.connect('bd.db')\n",
    "    cursor = conn.cursor()\n",
    "    cursor.execute(\"\"\"\n",
    "                insert into personne(nom, prenom, date_naissance) values (\n",
    "                ?, ?, ?);\n",
    "            \"\"\", (\"Ritchie\", \"Dennis\", \"08/09/19841\"))\n",
    "    conn.commit()\n",
    "except sqlite3.OperationalError as e:\n",
    "    print(\"---- erreur detectée ----\", e)\n",
    "    conn.rollback()\n",
    "finally:\n",
    "    if conn != None:\n",
    "        conn.close()"
   ]
  },
  {
   "cell_type": "markdown",
   "id": "1f24f621-40fd-4b8c-867d-9527e9238efc",
   "metadata": {},
   "source": [
    "## Le mot clé `with`"
   ]
  },
  {
   "cell_type": "markdown",
   "id": "1c945895-bd9d-4ee3-86f0-10d90447b8e3",
   "metadata": {},
   "source": [
    "Le mot clé with intervient dans la gestion des ressources afin de garantir que la ressource est correctement libérée\n",
    "\n",
    "Pour la connexion, le mot with permettra de gérer automatiquement la connexion\n",
    "\n",
    "Pour le curseur,  le mot with fermera automatiquement le curseur (en fonction du sgbd)\n"
   ]
  },
  {
   "cell_type": "code",
   "execution_count": 44,
   "id": "1f71d226-ae7b-4d14-ae7f-9f0ac2ec947b",
   "metadata": {},
   "outputs": [],
   "source": [
    "conn = None\n",
    "with sqlite3.connect('bd.db') as conn:\n",
    "    cursor = conn.cursor()\n",
    "    cursor.execute(\"\"\"\n",
    "                   insert into personne(nom, prenom, date_naissance) values (\n",
    "                   ?, ?, ?);\n",
    "               \"\"\", (\"Ritchie\", \"Dennis\", \"08/09/19841\"))\n",
    "\n",
    "conn.close()"
   ]
  }
 ],
 "metadata": {
  "kernelspec": {
   "display_name": "Python 3 (ipykernel)",
   "language": "python",
   "name": "python3"
  },
  "language_info": {
   "codemirror_mode": {
    "name": "ipython",
    "version": 3
   },
   "file_extension": ".py",
   "mimetype": "text/x-python",
   "name": "python",
   "nbconvert_exporter": "python",
   "pygments_lexer": "ipython3",
   "version": "3.8.3"
  }
 },
 "nbformat": 4,
 "nbformat_minor": 5
}
