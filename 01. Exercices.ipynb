{
 "cells": [
  {
   "cell_type": "markdown",
   "id": "2a35bf5d-1a8d-43d3-b3d7-309a6135a1db",
   "metadata": {},
   "source": [
    "# Exercices Séance 1"
   ]
  },
  {
   "cell_type": "markdown",
   "id": "0a210249-ef33-41d0-a0c8-90ea43ee17a3",
   "metadata": {},
   "source": [
    "## Mise en jambes"
   ]
  },
  {
   "cell_type": "markdown",
   "id": "831baf68-1bc2-49e7-9066-e9ee33d6691f",
   "metadata": {},
   "source": [
    "Afficher les 100 premiers nombres pairs."
   ]
  },
  {
   "cell_type": "code",
   "execution_count": 14,
   "id": "a9dbfb51-e965-4afe-b587-8a753ac63d00",
   "metadata": {},
   "outputs": [
    {
     "name": "stdout",
     "output_type": "stream",
     "text": [
      "0 2 4 6 8 10 12 14 16 18 20 22 24 26 28 30 32 34 36 38 40 42 44 46 48 50 52 54 56 58 60 62 64 66 68 70 72 74 76 78 80 82 84 86 88 90 92 94 96 98 100 102 104 106 108 110 112 114 116 118 120 122 124 126 128 130 132 134 136 138 140 142 144 146 148 150 152 154 156 158 160 162 164 166 168 170 172 174 176 178 180 182 184 186 188 190 192 194 196 198\n",
      "0 2 4 6 8 10 12 14 16 18 20 22 24 26 28 30 32 34 36 38 40 42 44 46 48 50 52 54 56 58 60 62 64 66 68 70 72 74 76 78 80 82 84 86 88 90 92 94 96 98 100 102 104 106 108 110 112 114 116 118 120 122 124 126 128 130 132 134 136 138 140 142 144 146 148 150 152 154 156 158 160 162 164 166 168 170 172 174 176 178 180 182 184 186 188 190 192 194 196 198\n",
      "0 2 4 6 8 10 12 14 16 18 20 22 24 26 28 30 32 34 36 38 40 42 44 46 48 50 52 54 56 58 60 62 64 66 68 70 72 74 76 78 80 82 84 86 88 90 92 94 96 98 100 102 104 106 108 110 112 114 116 118 120 122 124 126 128 130 132 134 136 138 140 142 144 146 148 150 152 154 156 158 160 162 164 166 168 170 172 174 176 178 180 182 184 186 188 190 192 194 196 198\n",
      "0 2 4 6 8 10 12 14 16 18 20 22 24 26 28 30 32 34 36 38 40 42 44 46 48 50 52 54 56 58 60 62 64 66 68 70 72 74 76 78 80 82 84 86 88 90 92 94 96 98 100 102 104 106 108 110 112 114 116 118 120 122 124 126 128 130 132 134 136 138 140 142 144 146 148 150 152 154 156 158 160 162 164 166 168 170 172 174 176 178 180 182 184 186 188 190 192 194 196 198\n",
      "0 2 4 6 8 10 12 14 16 18 20 22 24 26 28 30 32 34 36 38 40 42 44 46 48 50 52 54 56 58 60 62 64 66 68 70 72 74 76 78 80 82 84 86 88 90 92 94 96 98 100 102 104 106 108 110 112 114 116 118 120 122 124 126 128 130 132 134 136 138 140 142 144 146 148 150 152 154 156 158 160 162 164 166 168 170 172 174 176 178 180 182 184 186 188 190 192 194 196 198\n",
      "0 2 4 6 8 10 12 14 16 18 20 22 24 26 28 30 32 34 36 38 40 42 44 46 48 50 52 54 56 58 60 62 64 66 68 70 72 74 76 78 80 82 84 86 88 90 92 94 96 98 100 102 104 106 108 110 112 114 116 118 120 122 124 126 128 130 132 134 136 138 140 142 144 146 148 150 152 154 156 158 160 162 164 166 168 170 172 174 176 178 180 182 184 186 188 190 192 194 196 198\n"
     ]
    }
   ],
   "source": [
    "pairs =[]\n",
    "current = 0\n",
    "while len(pairs) < 100:\n",
    "    if current % 2 == 0:\n",
    "        pairs.append(current)\n",
    "    current+=1\n",
    "\n",
    "print(*pairs)\n",
    "\n",
    "pairs =[]\n",
    "current = 0\n",
    "while len(pairs) < 100:\n",
    "    pairs.append(current)\n",
    "    current+=2\n",
    "\n",
    "print(*pairs)\n",
    "\n",
    "pairs =[]\n",
    "for current in range(200):\n",
    "    if current % 2 == 0:\n",
    "        pairs.append(current)\n",
    "print(*pairs)\n",
    "\n",
    "\n",
    "pairs =[]\n",
    "for current in range(0, 200, 2):\n",
    "     pairs.append(current)\n",
    "print(*pairs)\n",
    "\n",
    "\n",
    "pairs = [item for item in range(200) if item %2 ==0]\n",
    "print(*pairs)\n",
    "\n",
    "\n",
    "pairs = [item for item in range(0,200,2)]\n",
    "print(*pairs)\n"
   ]
  },
  {
   "cell_type": "markdown",
   "id": "a7a65b65-0e86-48d2-9cb2-755c8a6fe0d9",
   "metadata": {},
   "source": [
    " Ecriver un programme prenant en entrée un nombre de secondes et qui le convertit en années, moiss, jours, heures, minutes et secondes"
   ]
  },
  {
   "cell_type": "code",
   "execution_count": 30,
   "id": "f46be7bf-85bf-42fa-b075-b0b59bd40260",
   "metadata": {},
   "outputs": [
    {
     "name": "stdin",
     "output_type": "stream",
     "text": [
      "Date en secondes :  10\n"
     ]
    },
    {
     "name": "stdout",
     "output_type": "stream",
     "text": [
      "0 année, 0 mois, 0 jours, 0 heures, 0 minutes 10 secondes\n"
     ]
    }
   ],
   "source": [
    "\n",
    "delay = eval(input(\"Date en secondes : \"))\n",
    "\n",
    "\n",
    "MINUTES_IN_SEC = 60\n",
    "HEURE_IN_SEC =  MINUTES_IN_SEC * 60\n",
    "JOUR_IN_SEC = HEURE_IN_SEC*24\n",
    "MOIS_IN_SEC = JOUR_IN_SEC * 30\n",
    "ANNEE_IN_SEC = MOIS_IN_SEC * 12\n",
    "\n",
    "annees = int(delay/ANNEE_IN_SEC)\n",
    "delay = delay%ANNEE_IN_SEC\n",
    "\n",
    "mois = int(delay/MOIS_IN_SEC)\n",
    "delay = delay%MOIS_IN_SEC\n",
    "\n",
    "jours = int(delay/JOUR_IN_SEC)\n",
    "delay = delay%JOUR_IN_SEC\n",
    "\n",
    "heures = int(delay/HEURE_IN_SEC)\n",
    "delay = delay%HEURE_IN_SEC\n",
    "\n",
    "minutes = int(delay/MINUTES_IN_SEC)\n",
    "secondes = delay%MINUTES_IN_SEC\n",
    "\n",
    "print(f\"{annees} année, {mois} mois, {jours} jours, {heures} heures, {minutes} minutes {secondes} secondes\")\n",
    "\n"
   ]
  },
  {
   "cell_type": "markdown",
   "id": "cb594c47-abeb-4ab4-b775-97f9a27194c9",
   "metadata": {},
   "source": [
    "Afficher la pyramide suivante :\n",
    "<pre>\n",
    "#\n",
    "##\n",
    "###\n",
    "####\n",
    "#####\n",
    "######\n",
    "</pre>\n"
   ]
  },
  {
   "cell_type": "code",
   "execution_count": 42,
   "id": "6cf35105-bf84-4ad3-9f82-99156bbbdcd2",
   "metadata": {},
   "outputs": [
    {
     "name": "stdout",
     "output_type": "stream",
     "text": [
      "#\n",
      "##\n",
      "###\n",
      "####\n",
      "#####\n",
      "######\n",
      "#\n",
      "##\n",
      "###\n",
      "####\n",
      "#####\n",
      "######\n",
      "#\n",
      "##\n",
      "###\n",
      "####\n",
      "#####\n",
      "######\n"
     ]
    }
   ],
   "source": [
    "for idx in range(1, 7):\n",
    "    for cols in range(idx):\n",
    "        print(\"#\", end=\"\")\n",
    "    print()\n",
    "    \n",
    "for idx in range(1, 7):\n",
    "    tab = [\"#\"] * idx\n",
    "    print(*tab, sep=\"\")\n",
    "    \n",
    "for idx in range(1, 7):\n",
    "    print(*([\"#\"] * idx), sep=\"\")\n"
   ]
  },
  {
   "cell_type": "markdown",
   "id": "4bdd2a03-5f14-4078-a404-2f6ec56253bd",
   "metadata": {
    "tags": []
   },
   "source": [
    "## Les chaines de caractères"
   ]
  },
  {
   "cell_type": "markdown",
   "id": "c3b61e61-8610-4399-a6b5-244fc87a7806",
   "metadata": {},
   "source": [
    "Ecrire une fonction prenant une chaine de caractéres et un caractére en paramétre et retournant le nombre de fois qu'apparait ce caractère. Vous ne devez pas utiliser la méthode count de str."
   ]
  },
  {
   "cell_type": "code",
   "execution_count": 55,
   "id": "93834c41-ceb5-435a-ab2a-93e9b45ab89c",
   "metadata": {},
   "outputs": [
    {
     "name": "stdout",
     "output_type": "stream",
     "text": [
      "5\n",
      "5\n",
      "5\n",
      "5\n",
      "5\n"
     ]
    }
   ],
   "source": [
    "def countCar(chaine:str, c): \n",
    "    \"\"\"\n",
    "    permet de compter le nombre de fois qu'apparait le caractère c dans le chaine chaine.\n",
    "    \"\"\"\n",
    "    count = 0 \n",
    "    chaine = chaine.lower()\n",
    "    for item in chaine:\n",
    "        if item == c:\n",
    "            count+=1\n",
    "    return count\n",
    "\n",
    "def countShort(chaine, c): \n",
    "    \"\"\"\n",
    "    permet de compter le nombre de fois qu'apparait le caractère c dans le chaine chaine.\n",
    "    \"\"\"\n",
    "    return len(chaine) - len(chaine.replace(c, \"\"))\n",
    "\n",
    "print(countCar(\"python et java sont de superbes langages\", \"e\"))\n",
    "\n",
    "print(countCar(chaine = \"python et java sont de supErbes langages\", c = \"e\"))\n",
    "print(countCar( c = \"e\", chaine = \"python et java sont de superbes langages\"))\n",
    "\n",
    "print(\"python et java sont de superbes langages\".count(\"e\"))\n",
    "\n",
    "\n",
    "print(countShort(\"python et java sont de superbes langages\", \"e\"))"
   ]
  },
  {
   "cell_type": "markdown",
   "id": "5b3e643a-ab70-4ecf-8b34-497697218eaa",
   "metadata": {},
   "source": [
    "Créer un programme permettant de compter le nombre de voyelles dans une chaine de caratéres."
   ]
  },
  {
   "cell_type": "code",
   "execution_count": 57,
   "id": "94ee5fb2-9bcb-419c-97f2-c63f611b8d0a",
   "metadata": {},
   "outputs": [
    {
     "name": "stdout",
     "output_type": "stream",
     "text": [
      "13\n"
     ]
    }
   ],
   "source": [
    "VOYELLES = (\"a\",\"e\",\"i\", \"o\",\"u\", \"y\")\n",
    "\n",
    "\n",
    "def countVoyelles(ch:str):\n",
    "    count = 0\n",
    "    for c in ch:\n",
    "        if c in VOYELLES:\n",
    "            count+=1\n",
    "    return count\n",
    "\n",
    "print(countVoyelles(\"python et java sont de superbes langages\"))\n",
    "    "
   ]
  },
  {
   "cell_type": "markdown",
   "id": "aaf167b6-55fd-498d-be2d-7b24a6b83417",
   "metadata": {},
   "source": [
    "Ecrire une fonction prenant en paramétre une chaine de caractères et retournant True si la chaine est un palindrome. Un palindrome étant une chaine pouvant se lire dans les 2 sens"
   ]
  },
  {
   "cell_type": "code",
   "execution_count": 82,
   "id": "ccf9c41f-e854-4f40-aef0-906216af72b8",
   "metadata": {},
   "outputs": [
    {
     "name": "stdout",
     "output_type": "stream",
     "text": [
      "True\n",
      "True\n",
      "False\n",
      "False\n",
      "True\n"
     ]
    }
   ],
   "source": [
    "def is_palindrome(chaine:str):\n",
    "    chaine = chaine.replace(\" \",\"\").lower()\n",
    "    palindrome = True\n",
    "    for idx in range(int(len(chaine) / 2)):\n",
    "        if not chaine[idx] == chaine[len(chaine) - idx-1]:\n",
    "            palindrome = False\n",
    "            break\n",
    "    return palindrome\n",
    "\n",
    "def is_palindrome2(chaine:str):\n",
    "    chaine = chaine.replace(\" \",\"\").lower()\n",
    "    #return chaine == \"\".join(reversed(chaine))\n",
    "    return chaine == chaine[::-1]\n",
    "\n",
    "\n",
    "\n",
    "print(is_palindrome(\"et la marine va venir a malte\") )\n",
    "print(is_palindrome(\"il en a trop par rapport a neli\") )\n",
    "print(is_palindrome(\"une phrase\") )\n",
    "\n",
    "\n",
    "print(is_palindrome2(\"une phrase\") )\n",
    "print(is_palindrome2(\"il en a trop par rapport a neli\") )\n"
   ]
  },
  {
   "cell_type": "markdown",
   "id": "d3b6e9d2-fe5c-486f-b7ab-d6ef31e9c8ef",
   "metadata": {},
   "source": [
    "Créer un programme permettant d'implémenter le principe du look and Say. Le look an say consiste à ecrire ce que l'on voit. Par exemple :\n",
    "<pre>\n",
    "1       s'ecrit     11 (je vois 1 1)\n",
    "11      s'ecrit     21 (je vois 2 1)\n",
    "21      s'ecrit     1211 \n",
    "1211    s'ecrit     111221\n",
    "</pre>\n",
    "Répeter 40 fois la lecture en partant de 1113222113. Combien de caractères composent le dernier nombre ?"
   ]
  },
  {
   "cell_type": "code",
   "execution_count": 112,
   "id": "dc7ec88a-1ec6-4b9b-8b83-920ed827789c",
   "metadata": {},
   "outputs": [
    {
     "name": "stdout",
     "output_type": "stream",
     "text": [
      "11\n",
      "21\n",
      "1211\n",
      "111221\n",
      "312211\n",
      "13112221\n",
      "------\n",
      "11\n",
      "21\n",
      "1211\n",
      "111221\n",
      "312211\n",
      "13112221\n"
     ]
    }
   ],
   "source": [
    "def lockAndSay(chaine:str):\n",
    "    buffer = \"\"\n",
    "    previous = chaine[0]\n",
    "    count = 1\n",
    "    for ch in chaine[1:]:\n",
    "        if ch == previous:\n",
    "            count += 1\n",
    "        else:\n",
    "            buffer += str(count) + str(previous)\n",
    "            previous = ch\n",
    "            count = 1\n",
    "    buffer += str(count) + str(previous)  \n",
    "    return buffer\n",
    "\n",
    "import re\n",
    "pattern = re.compile(\"(0+|1+|2+|3+|4+|5+|6+|7+|8+|9+)\")\n",
    "def lockAndSay2(chaine:str):\n",
    "    items = pattern.findall(chaine)\n",
    "    buffer = \"\"\n",
    "    for item in items:\n",
    "        buffer += str(len(item)) + item[0]\n",
    "    return buffer\n",
    "\n",
    "    \n",
    "\n",
    "start = \"11\"\n",
    "print(start)\n",
    "for idx in range(5):\n",
    "    start = lockAndSay(start)\n",
    "    print(start)\n",
    "print(\"------\")  \n",
    "start = \"11\"\n",
    "print(start)\n",
    "for idx in range(5):\n",
    "    start = lockAndSay2(start)\n",
    "    print(start)\n",
    "    "
   ]
  },
  {
   "cell_type": "markdown",
   "id": "bdb4fd1a-bf12-4901-b70e-f690d613a7c8",
   "metadata": {},
   "source": [
    "## Les Listes"
   ]
  },
  {
   "cell_type": "markdown",
   "id": "db0a09c2-1646-4bff-a854-0ad994d3bfa4",
   "metadata": {},
   "source": [
    "Apres avoir créer une fonction indiquant si un nombre est premier, créer une liste contenant les 20 premiers nombres premiers."
   ]
  },
  {
   "cell_type": "code",
   "execution_count": 125,
   "id": "03a93991-3a1e-4033-8598-916a95681184",
   "metadata": {},
   "outputs": [
    {
     "name": "stdout",
     "output_type": "stream",
     "text": [
      "True\n",
      "False\n",
      "True\n",
      "True\n",
      "True\n",
      "False\n",
      "2 3 5 7 11 13 17 19 23 29 31 37 41 43 47 53 59 61 67 71\n"
     ]
    }
   ],
   "source": [
    "from math import sqrt\n",
    "\n",
    "#import math\n",
    "\n",
    "def est_premier(nb:int):\n",
    "    diviseur = 0\n",
    "    for idx in range(2, int(sqrt(nb))+1):\n",
    "        if nb % idx == 0:\n",
    "            diviseur+=1\n",
    "    return True if diviseur == 0 else False\n",
    "\n",
    "print(est_premier(3))\n",
    "print(est_premier(6))\n",
    "print(est_premier(7))\n",
    "print(est_premier(13))\n",
    "print(est_premier(23))\n",
    "print(est_premier(21))\n",
    "\n",
    "nb_premiers = []\n",
    "nb_en_cours = 2\n",
    "while len(nb_premiers) < 20:\n",
    "    if est_premier(nb_en_cours):\n",
    "        nb_premiers.append(nb_en_cours)\n",
    "    nb_en_cours +=1\n",
    "\n",
    "print(*nb_premiers)"
   ]
  },
  {
   "cell_type": "markdown",
   "id": "98c0f651-1747-4c90-bb37-94f3d40424b3",
   "metadata": {},
   "source": [
    "En ecrivant sur 1 ligne, initialiser une liste contenant tous les nombres divisibles par 3 et inférieur à 100 puis afficher cette liste."
   ]
  },
  {
   "cell_type": "code",
   "execution_count": 135,
   "id": "85361bbc-8b65-4d09-9228-c25a7f5db7e1",
   "metadata": {},
   "outputs": [
    {
     "name": "stdout",
     "output_type": "stream",
     "text": [
      "0-3-6-9-12-15-18-21-24-27-30-33-36-39-42-45-48-51-54-57-60-63-66-69-72-75-78-81-84-87-90-93-96-99\n"
     ]
    }
   ],
   "source": [
    "liste = [item for item in range(100) if item % 3 ==0]\n",
    "print(*liste, sep = \"-\")"
   ]
  },
  {
   "cell_type": "markdown",
   "id": "065b2316-0910-498a-b543-01d57433401c",
   "metadata": {},
   "source": [
    "Écrire un programme qui affiche les nombres de 1 à 199. Mais pour les multiples de 3, afficher “Fizz” au lieu du nombre et pour les multiples de 5 afficher “Buzz”. Pour les nombres multiples de 3 et 5, afficher “FizzBuzz”."
   ]
  },
  {
   "cell_type": "code",
   "execution_count": 141,
   "id": "124383d0-dd20-4c52-ba8d-d413919a9c3d",
   "metadata": {},
   "outputs": [
    {
     "name": "stdout",
     "output_type": "stream",
     "text": [
      "[1, 2, 'Fizz', 4, 'Buzz', 'Fizz', 7, 8, 'Fizz', 'Buzz', 11, 'Fizz', 13, 14, 'Fizzbuzz', 16, 17, 'Fizz', 19, 'Buzz', 'Fizz', 22, 23, 'Fizz', 'Buzz', 26, 'Fizz', 28, 29, 'Fizzbuzz', 31, 32, 'Fizz', 34, 'Buzz', 'Fizz', 37, 38, 'Fizz', 'Buzz', 41, 'Fizz', 43, 44, 'Fizzbuzz', 46, 47, 'Fizz', 49, 'Buzz', 'Fizz', 52, 53, 'Fizz', 'Buzz', 56, 'Fizz', 58, 59, 'Fizzbuzz', 61, 62, 'Fizz', 64, 'Buzz', 'Fizz', 67, 68, 'Fizz', 'Buzz', 71, 'Fizz', 73, 74, 'Fizzbuzz', 76, 77, 'Fizz', 79, 'Buzz', 'Fizz', 82, 83, 'Fizz', 'Buzz', 86, 'Fizz', 88, 89, 'Fizzbuzz', 91, 92, 'Fizz', 94, 'Buzz', 'Fizz', 97, 98, 'Fizz']\n"
     ]
    }
   ],
   "source": [
    "liste = [\"Fizzbuzz\" if item %15==0 else \"Fizz\" if item%3==0 else \"Buzz\" if item%5==0 else item for item in range(1, 100)]\n",
    "print(liste)"
   ]
  },
  {
   "cell_type": "markdown",
   "id": "757c068f-d48a-492e-89b5-c070fc50f546",
   "metadata": {},
   "source": [
    "## Les dictionnaires"
   ]
  },
  {
   "cell_type": "markdown",
   "id": "b0e5f6e1-0775-43e4-92c6-c2e9e524c6bd",
   "metadata": {},
   "source": [
    "Créer un méthode prenant en paramétre une chaine de caractére et retournant un dictionnaire indiquant le nombre de fois du'apparait chaque caractére de l'alphabet dans la phrase."
   ]
  },
  {
   "cell_type": "code",
   "execution_count": 188,
   "id": "37fe74d5-b325-4ff8-8155-de5b501c50cc",
   "metadata": {},
   "outputs": [
    {
     "name": "stdout",
     "output_type": "stream",
     "text": [
      "{'u': 1, 'n': 1, 'e': 6, 'p': 1, 'h': 1, 'r': 2, 'a': 2, 's': 3, 'v': 1, 'c': 1, 'd': 1, 'l': 1, 't': 2}\n"
     ]
    }
   ],
   "source": [
    "# création d'un tuple ne contenant que les lettres de l'alphabet\n",
    "ALPA = tuple(chr(item) for item in range(ord(\"a\"), ord(\"z\")+1))\n",
    "                                    \n",
    "def createDico(chaine:str):\n",
    "    lettreCompteur = {}\n",
    "    for c in chaine.replace(\" \", \"\").replace(\"\\n\", \"\").lower():\n",
    "        if c in ALPA:\n",
    "            if c in lettreCompteur.keys():\n",
    "                lettreCompteur[c]+=1\n",
    "            else:\n",
    "                lettreCompteur[c]=1\n",
    "    return lettreCompteur\n",
    "\n",
    "ret = createDico(\"Une phrase avec des lettres....\")\n",
    "\n",
    "print(ret)"
   ]
  },
  {
   "cell_type": "markdown",
   "id": "407b8ed3-2b13-4ff2-9095-5e448cff5e0d",
   "metadata": {},
   "source": [
    "En utilisant la fonction <i>open</i>, lire le fichier suivant  [Fichier](./assets/texte-etalonnage.txt) et indiquer le nombre fois qu'apparait chaque caractère de l'alphabet"
   ]
  },
  {
   "cell_type": "code",
   "execution_count": 189,
   "id": "f75c4fd0-c463-48f3-8570-2e89dd7db624",
   "metadata": {},
   "outputs": [
    {
     "name": "stdout",
     "output_type": "stream",
     "text": [
      "{'p': 1933, 'r': 3934, 'a': 3906, 'm': 1452, 'b': 486, 'u': 3068, 'l': 3842, 'e': 8400, 'f': 417, 'n': 4361, 'i': 4640, 's': 4962, 'o': 3493, 'c': 2079, 't': 4490, 'h': 116, 'x': 330, 'd': 2612, 'v': 666, 'q': 472, 'y': 37, 'g': 507, 'j': 180, 'z': 12, 'w': 1}\n"
     ]
    }
   ],
   "source": [
    "ret = {}\n",
    "with open(\"assets/texte-etalonnage.txt\", \"r+\") as fichier:\n",
    "    lignes = fichier.read()\n",
    "    ret = createDico(lignes)\n",
    "    print(ret)\n",
    "\n",
    "#ficher.close()"
   ]
  },
  {
   "cell_type": "markdown",
   "id": "b3233a75-93ad-43ab-8aef-9253f2e15f57",
   "metadata": {},
   "source": [
    "En utilisant les librairies pandas et mathplotlib, et en vous inspirant de la page https://datatofish.com/matplotlib-charts-tkinter-gui/, afficher un graphique en bar en abcisse les lettres et en ordonnée leur apparition dans le fichier."
   ]
  },
  {
   "cell_type": "code",
   "execution_count": 195,
   "id": "2e69bb0f-1f16-4996-bbc6-e3fbda0ff8d3",
   "metadata": {},
   "outputs": [
    {
     "name": "stdout",
     "output_type": "stream",
     "text": [
      "   Lettre  Frequence\n",
      "0       p       1933\n",
      "1       r       3934\n",
      "2       a       3906\n",
      "3       m       1452\n",
      "4       b        486\n",
      "5       u       3068\n",
      "6       l       3842\n",
      "7       e       8400\n",
      "8       f        417\n",
      "9       n       4361\n",
      "10      i       4640\n",
      "11      s       4962\n",
      "12      o       3493\n",
      "13      c       2079\n",
      "14      t       4490\n",
      "15      h        116\n",
      "16      x        330\n",
      "17      d       2612\n",
      "18      v        666\n",
      "19      q        472\n",
      "20      y         37\n",
      "21      g        507\n",
      "22      j        180\n",
      "23      z         12\n",
      "24      w          1\n"
     ]
    },
    {
     "data": {
      "image/png": "[encoded data removed]",
      "text/plain": [
       "<Figure size 600x500 with 1 Axes>"
      ]
     },
     "metadata": {},
     "output_type": "display_data"
    }
   ],
   "source": [
    "import tkinter as tk\n",
    "from pandas import DataFrame\n",
    "import matplotlib.pyplot as plt\n",
    "from matplotlib.backends.backend_tkagg import FigureCanvasTkAgg\n",
    "\n",
    "\n",
    "data1 = {'Lettre': ret.keys(),\n",
    "         'Frequence': ret.values()\n",
    "        }\n",
    "df1 = DataFrame(data1,columns=['Lettre','Frequence'])\n",
    "print(df1)\n",
    "\n",
    "root= tk.Tk() \n",
    "  \n",
    "figure1 = plt.Figure(figsize=(6,5), dpi=100)\n",
    "ax1 = figure1.add_subplot(111)\n",
    "bar1 = FigureCanvasTkAgg(figure1, root)\n",
    "bar1.get_tk_widget().pack(side=tk.LEFT, fill=tk.BOTH)\n",
    "df1 = df1[['Lettre','Frequence']].groupby('Lettre').sum()\n",
    "df1.plot(kind='bar', legend=True, ax=ax1)\n",
    "ax1.set_title('Frequence d\\'apparition des lettres')\n",
    "\n",
    "display(figure1)\n",
    "\n"
   ]
  },
  {
   "cell_type": "markdown",
   "id": "f17a7273-a9ec-4951-85f5-0d76ee7e121e",
   "metadata": {},
   "source": [
    "## Les classes"
   ]
  },
  {
   "cell_type": "markdown",
   "id": "e27c946b-49f7-4bb5-bc7a-b5c22be74436",
   "metadata": {},
   "source": [
    "Réaliser l’implementation du jeu de la vie en implementant 3 classes : Cell, DeathCel, AliveCell"
   ]
  },
  {
   "cell_type": "code",
   "execution_count": null,
   "id": "eb428985-e543-4ed4-9714-8dd7927ec661",
   "metadata": {},
   "outputs": [],
   "source": []
  },
  {
   "cell_type": "code",
   "execution_count": null,
   "id": "345a556b-3992-43d6-87e1-a627aef2b251",
   "metadata": {},
   "outputs": [],
   "source": []
  }
 ],
 "metadata": {
  "kernelspec": {
   "display_name": "Python 3 (ipykernel)",
   "language": "python",
   "name": "python3"
  },
  "language_info": {
   "codemirror_mode": {
    "name": "ipython",
    "version": 3
   },
   "file_extension": ".py",
   "mimetype": "text/x-python",
   "name": "python",
   "nbconvert_exporter": "python",
   "pygments_lexer": "ipython3",
   "version": "3.8.3"
  }
 },
 "nbformat": 4,
 "nbformat_minor": 5
}
