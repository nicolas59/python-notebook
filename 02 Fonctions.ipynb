{
 "cells": [
  {
   "cell_type": "markdown",
   "id": "66b594dc-f92c-4dcd-87f2-91610acdc6ec",
   "metadata": {},
   "source": [
    "# Les fonctions"
   ]
  },
  {
   "cell_type": "markdown",
   "id": "5513f990-2e39-4b6b-bf9a-67e5a95c7e7e",
   "metadata": {},
   "source": [
    "## Une fonction ou une procédure"
   ]
  },
  {
   "cell_type": "code",
   "execution_count": 12,
   "id": "13d26bf9-9c89-4595-8939-4571acbb9d09",
   "metadata": {},
   "outputs": [],
   "source": [
    "from turtle import Turtle\n",
    "\n",
    "def somme(a,b):\n",
    "    return a + b\n",
    "\n",
    "def dessiner_carre(cote, t:Turtle):\n",
    "    for _ in range(0,4):\n",
    "        t.forward(cote)       \n",
    "        t.left(90)\n"
   ]
  },
  {
   "cell_type": "markdown",
   "id": "8f4888d2-3897-45d7-bdfb-97d1f209299b",
   "metadata": {},
   "source": [
    "## Le typage"
   ]
  },
  {
   "cell_type": "code",
   "execution_count": 28,
   "id": "443882cd-0391-4775-97ed-5975395890b5",
   "metadata": {},
   "outputs": [
    {
     "name": "stdout",
     "output_type": "stream",
     "text": [
      "resultat :  14\n",
      "Une chaine...\n"
     ]
    }
   ],
   "source": [
    "def somme(a:int, b:int) -> int: \n",
    "    \"\"\"\n",
    "    Permet d'ajouter 2 entiers\n",
    "    \"\"\"\n",
    "    return a + b\n",
    "\n",
    "def somme(a=8, b=9):\n",
    "    return a + b\n",
    "\n",
    "print(\"resultat : \",  somme(5))\n",
    "\n",
    "print(somme(\"Une chaine\", \"...\"))"
   ]
  },
  {
   "cell_type": "markdown",
   "id": "52663cb4-d20f-490d-855b-03b11d516a55",
   "metadata": {},
   "source": [
    "## Avec des valeurs par défaut"
   ]
  },
  {
   "cell_type": "code",
   "execution_count": 22,
   "id": "41ea7198-3245-4a2d-8a24-bd2e84a91a85",
   "metadata": {
    "tags": []
   },
   "outputs": [
    {
     "name": "stdout",
     "output_type": "stream",
     "text": [
      "resultat :  8\n"
     ]
    }
   ],
   "source": [
    "def somme(a, b = 3):\n",
    "    return a + b\n",
    "\n",
    "print(\"resultat : \",  somme(5))"
   ]
  },
  {
   "cell_type": "code",
   "execution_count": 21,
   "id": "1d98afd0-f8cc-4d25-ad1f-171214b2b813",
   "metadata": {},
   "outputs": [
    {
     "name": "stdout",
     "output_type": "stream",
     "text": [
      "Je peux concatener un nombre indéfini de valeurs\n",
      "Une chaine...\n"
     ]
    }
   ],
   "source": [
    "def concat(* items):\n",
    "    buffer = \"\"\n",
    "    for item in items:\n",
    "        buffer += \" \" + item\n",
    "    return buffer.strip()\n",
    "\n",
    "ret =  concat(\"Je\", \"peux\", \"concatener\", \"un\", \"nombre indéfini de valeurs\")\n",
    "\n",
    "print(ret)\n",
    "print(somme(\"Une chaine\", \"...\"))"
   ]
  },
  {
   "cell_type": "code",
   "execution_count": 7,
   "id": "c91f337b-8f8d-4cc1-a481-46f3366a7930",
   "metadata": {},
   "outputs": [],
   "source": [
    "import math\n",
    "\n",
    "def est_premier(nb):\n",
    "    return not nb == 1 and len([item for item in range(2, int(math.sqrt(nb))+1) if nb % item == 0]) == 0\n",
    "\n",
    "def pgcd(a,b):\n",
    "    while b != 0:\n",
    "        a,b = b, a%b\n",
    "    return a\n"
   ]
  },
  {
   "cell_type": "code",
   "execution_count": 8,
   "id": "9e2cc0e4-bbab-4646-9113-e605dc19fcec",
   "metadata": {},
   "outputs": [
    {
     "name": "stdout",
     "output_type": "stream",
     "text": [
      "False\n",
      "False\n",
      "True\n",
      "True\n",
      "5\n",
      "1\n"
     ]
    }
   ],
   "source": [
    "print(est_premier(1))\n",
    "print(est_premier(6))\n",
    "print(est_premier(3))\n",
    "print(est_premier(23))\n",
    "\n",
    "print(pgcd(10, 5))\n",
    "print(pgcd(33, 4))"
   ]
  },
  {
   "cell_type": "markdown",
   "id": "35dbaae4-a5ce-44cc-a102-4aceb7a166b0",
   "metadata": {},
   "source": [
    "## Les fonctions avec des paramétres nommés"
   ]
  },
  {
   "cell_type": "code",
   "execution_count": 10,
   "id": "0fbca11c-cb27-4c55-a34d-701ee4c79e41",
   "metadata": {},
   "outputs": [
    {
     "name": "stdout",
     "output_type": "stream",
     "text": [
      "Hello World Nicolas\n",
      "Hello World Nicolas\n"
     ]
    }
   ],
   "source": [
    "def concat(a,b,c):\n",
    "    return \"{} {} {}\".format(a,b,c)\n",
    "\n",
    "ch1 = concat(b = \"World\", a=\"Hello\", c=\"Nicolas\")\n",
    "print(ch1)\n",
    "\n",
    "ch2 = concat(c = \"Nicolas\", b = \"World\", a=\"Hello\")\n",
    "print(ch2)"
   ]
  },
  {
   "cell_type": "markdown",
   "id": "997ced6b-7e97-4bba-b3a7-c494c92ee427",
   "metadata": {},
   "source": [
    "## Les fonctions avec des paramétres indéfinis"
   ]
  },
  {
   "cell_type": "code",
   "execution_count": 19,
   "id": "f3df7d46-e6a2-4855-93ef-a527cf9f1382",
   "metadata": {},
   "outputs": [
    {
     "data": {
      "text/plain": [
       "'Je peux concatener un nombre indéfini de valeurs'"
      ]
     },
     "execution_count": 19,
     "metadata": {},
     "output_type": "execute_result"
    }
   ],
   "source": [
    "def concat(* items):\n",
    "    buffer = \"\"\n",
    "    for item in items:\n",
    "        buffer += \" \" + item\n",
    "    return buffer.strip()\n",
    "\n",
    "concat(\"Je\", \"peux\", \"concatener\", \n",
    "       \"un\", \"nombre indéfini de valeurs\")"
   ]
  },
  {
   "cell_type": "markdown",
   "id": "48d162c4-f363-436c-b882-03bca85f680a",
   "metadata": {},
   "source": [
    "## Les fonctions avec des paramétres nommés indéfinis"
   ]
  },
  {
   "cell_type": "code",
   "execution_count": 14,
   "id": "b5880c0b-bf7c-42d1-ac8c-f4d007f9973e",
   "metadata": {},
   "outputs": [
    {
     "name": "stdout",
     "output_type": "stream",
     "text": [
      "p1 : MaValeur1\n",
      "p2 : 0\n",
      "p3 : une autre valeur\n"
     ]
    }
   ],
   "source": [
    "def afficher(**arguments):\n",
    "    for key, value in arguments.items():\n",
    "        print(f\"{key} : {value}\")\n",
    "\n",
    "afficher(p1=\"MaValeur1\", p2=0, p3=\"une autre valeur\")\n",
    "    "
   ]
  },
  {
   "cell_type": "code",
   "execution_count": null,
   "id": "0b92ba56-ab19-4a7c-9e58-b162aad522cf",
   "metadata": {},
   "outputs": [],
   "source": []
  }
 ],
 "metadata": {
  "kernelspec": {
   "display_name": "Python 3 (ipykernel)",
   "language": "python",
   "name": "python3"
  },
  "language_info": {
   "codemirror_mode": {
    "name": "ipython",
    "version": 3
   },
   "file_extension": ".py",
   "mimetype": "text/x-python",
   "name": "python",
   "nbconvert_exporter": "python",
   "pygments_lexer": "ipython3",
   "version": "3.8.3"
  },
  "toc-showcode": false
 },
 "nbformat": 4,
 "nbformat_minor": 5
}
