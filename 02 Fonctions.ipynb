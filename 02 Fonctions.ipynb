{
 "cells": [
  {
   "cell_type": "markdown",
   "id": "66b594dc-f92c-4dcd-87f2-91610acdc6ec",
   "metadata": {},
   "source": [
    "# Les fonctions"
   ]
  },
  {
   "cell_type": "code",
   "execution_count": 6,
   "id": "41ea7198-3245-4a2d-8a24-bd2e84a91a85",
   "metadata": {
    "tags": []
   },
   "outputs": [
    {
     "name": "stdout",
     "output_type": "stream",
     "text": [
      "Je peux concatener un nombre indéfini de valeurs\n",
      "8\n",
      "Une chaine...\n"
     ]
    }
   ],
   "source": [
    "def somme(a, b = 3):\n",
    "    return a + b\n",
    "\n",
    "def concat(* items):\n",
    "    buffer = \"\"\n",
    "    for item in items:\n",
    "        buffer += \" \" + item\n",
    "    return buffer.strip()\n",
    "\n",
    "ret =  concat(\"Je\", \"peux\", \"concatener\", \"un\", \"nombre indéfini de valeurs\")\n",
    "\n",
    "print(ret)\n",
    "print(somme(5))\n",
    "print(somme(\"Une chaine\", \"...\"))"
   ]
  },
  {
   "cell_type": "code",
   "execution_count": 7,
   "id": "c91f337b-8f8d-4cc1-a481-46f3366a7930",
   "metadata": {},
   "outputs": [],
   "source": [
    "import math\n",
    "\n",
    "def est_premier(nb):\n",
    "    return not nb == 1 and len([item for item in range(2, int(math.sqrt(nb))+1) if nb % item == 0]) == 0\n",
    "\n",
    "def pgcd(a,b):\n",
    "    while b != 0:\n",
    "        a,b = b, a%b\n",
    "    return a\n"
   ]
  },
  {
   "cell_type": "code",
   "execution_count": 8,
   "id": "9e2cc0e4-bbab-4646-9113-e605dc19fcec",
   "metadata": {},
   "outputs": [
    {
     "name": "stdout",
     "output_type": "stream",
     "text": [
      "False\n",
      "False\n",
      "True\n",
      "True\n",
      "5\n",
      "1\n"
     ]
    }
   ],
   "source": [
    "print(est_premier(1))\n",
    "print(est_premier(6))\n",
    "print(est_premier(3))\n",
    "print(est_premier(23))\n",
    "\n",
    "print(pgcd(10, 5))\n",
    "print(pgcd(33, 4))"
   ]
  },
  {
   "cell_type": "code",
   "execution_count": null,
   "id": "0f158993-3a16-4eeb-8b59-98607bed1325",
   "metadata": {},
   "outputs": [],
   "source": []
  }
 ],
 "metadata": {
  "kernelspec": {
   "display_name": "Python 3 (ipykernel)",
   "language": "python",
   "name": "python3"
  },
  "language_info": {
   "codemirror_mode": {
    "name": "ipython",
    "version": 3
   },
   "file_extension": ".py",
   "mimetype": "text/x-python",
   "name": "python",
   "nbconvert_exporter": "python",
   "pygments_lexer": "ipython3",
   "version": "3.8.3"
  }
 },
 "nbformat": 4,
 "nbformat_minor": 5
}
