{
 "cells": [
  {
   "cell_type": "markdown",
   "id": "b81d8104-2b02-4fb1-8452-24c89ed518c5",
   "metadata": {},
   "source": [
    "# Boucles et conditions"
   ]
  },
  {
   "cell_type": "markdown",
   "id": "b37d4d5b-4864-466a-a1d8-10d1015cb872",
   "metadata": {},
   "source": [
    "## If elis else"
   ]
  },
  {
   "cell_type": "code",
   "execution_count": 2,
   "id": "fb0ae6f5-0f78-4ccc-aaca-c0220c139e3f",
   "metadata": {},
   "outputs": [
    {
     "name": "stdout",
     "output_type": "stream",
     "text": [
      "Nombre impaire\n"
     ]
    }
   ],
   "source": [
    "a = 11\n",
    "if a%2==0:\n",
    "    print(\"Nombre paire\")\n",
    "else:\n",
    "    print(\"Nombre impaire\")\n"
   ]
  },
  {
   "cell_type": "code",
   "execution_count": 3,
   "id": "1eb7080b-db34-4593-a612-00f812d19bf4",
   "metadata": {},
   "outputs": [
    {
     "name": "stdout",
     "output_type": "stream",
     "text": [
      "Vapeur\n"
     ]
    }
   ],
   "source": [
    "\n",
    "temp_eau = 140\n",
    "if temp_eau < 0:\n",
    "    print(\"Glace\")\n",
    "elif temp_eau> 100:\n",
    "    print(\"Vapeur\")\n",
    "else:\n",
    "    print(\"Liquide\")\n"
   ]
  },
  {
   "cell_type": "markdown",
   "id": "700536fe-001b-4489-8d7b-010ce24500bb",
   "metadata": {},
   "source": [
    "## La boucle While"
   ]
  },
  {
   "cell_type": "code",
   "execution_count": 5,
   "id": "3949ba12-1117-401f-8bab-78bf81623d6f",
   "metadata": {},
   "outputs": [
    {
     "name": "stdout",
     "output_type": "stream",
     "text": [
      "5\n",
      "4\n",
      "3\n",
      "2\n",
      "1\n"
     ]
    }
   ],
   "source": [
    "i = 5\n",
    "while not i == 0:\n",
    "    print(i)\n",
    "    i-=1"
   ]
  },
  {
   "cell_type": "markdown",
   "id": "4565c8f0-47f1-4903-a0af-7746e010db74",
   "metadata": {},
   "source": [
    "## La boucle for"
   ]
  },
  {
   "cell_type": "code",
   "execution_count": 7,
   "id": "19553de5-55b6-4b5f-9155-9dccae651aa0",
   "metadata": {},
   "outputs": [
    {
     "name": "stdout",
     "output_type": "stream",
     "text": [
      "bleu\n",
      "vert\n",
      "orange\n"
     ]
    }
   ],
   "source": [
    "couleurs = (\"bleu\", \"vert\", \"orange\")\n",
    "for couleur in couleurs:\n",
    "    print(couleur)"
   ]
  },
  {
   "cell_type": "markdown",
   "id": "6ce1a63a-0887-43db-a38f-d496345c394c",
   "metadata": {},
   "source": [
    "### Les listes"
   ]
  },
  {
   "cell_type": "code",
   "execution_count": 14,
   "id": "46a4368a-bc8e-40f5-a5a1-c0e7345c922e",
   "metadata": {},
   "outputs": [
    {
     "name": "stdout",
     "output_type": "stream",
     "text": [
      "0 2 4 6 8 10 12 14 16 18\n"
     ]
    }
   ],
   "source": [
    "nombres_pairs = []\n",
    "for nb in range(20):\n",
    "    if nb % 2 == 0:\n",
    "        nombres_pairs.append(nb)\n",
    "print(*nombres_pairs)"
   ]
  },
  {
   "cell_type": "code",
   "execution_count": 9,
   "id": "a892097d-9778-40a9-8bcf-17894be34046",
   "metadata": {},
   "outputs": [
    {
     "name": "stdout",
     "output_type": "stream",
     "text": [
      "1 3 5 7 9 11 13 15 17 19\n"
     ]
    }
   ],
   "source": [
    "nombres_pairs = [item for item in range(20) if item % 2]\n",
    "print(*nombres_pairs)"
   ]
  },
  {
   "cell_type": "code",
   "execution_count": 10,
   "id": "d5440f20-9ca4-49c7-95a6-fd38266ee655",
   "metadata": {},
   "outputs": [
    {
     "name": "stdout",
     "output_type": "stream",
     "text": [
      "1 3 5 7 9 11 13 15 17 19\n"
     ]
    }
   ],
   "source": [
    "nombres =  [item for item in range(20) if item % 2]\n",
    "print(*nombres)"
   ]
  },
  {
   "cell_type": "code",
   "execution_count": 20,
   "id": "fb1da7e0-1103-46b2-935f-f2ab3749c706",
   "metadata": {},
   "outputs": [
    {
     "name": "stdout",
     "output_type": "stream",
     "text": [
      "0 Div. par 3\n",
      "Non div. par 3\n",
      "Non div. par 3\n",
      "3 Div. par 3\n",
      "Non div. par 3\n",
      "Non div. par 3\n",
      "6 Div. par 3\n",
      "Non div. par 3\n",
      "Non div. par 3\n",
      "9 Div. par 3\n"
     ]
    }
   ],
   "source": [
    "nombres =  [f\"{item} Div. par 3\" if item%3 == 0 else \"Non div. par 3\" for item in range(10)]\n",
    "print(*nombres, sep=\"\\n\")"
   ]
  },
  {
   "cell_type": "code",
   "execution_count": null,
   "id": "b5214d75-07ec-4b34-9273-dad59f93e266",
   "metadata": {},
   "outputs": [],
   "source": []
  }
 ],
 "metadata": {
  "kernelspec": {
   "display_name": "Python 3 (ipykernel)",
   "language": "python",
   "name": "python3"
  },
  "language_info": {
   "codemirror_mode": {
    "name": "ipython",
    "version": 3
   },
   "file_extension": ".py",
   "mimetype": "text/x-python",
   "name": "python",
   "nbconvert_exporter": "python",
   "pygments_lexer": "ipython3",
   "version": "3.8.3"
  }
 },
 "nbformat": 4,
 "nbformat_minor": 5
}
