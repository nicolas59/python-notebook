{
 "cells": [
  {
   "cell_type": "markdown",
   "id": "c905824d-1daa-421f-941f-74492e208132",
   "metadata": {},
   "source": [
    "# Les classes"
   ]
  },
  {
   "cell_type": "markdown",
   "id": "a14cb078-7fad-4ee2-804d-9a09f8fae9ec",
   "metadata": {
    "tags": []
   },
   "source": [
    "## Déclaration et utilisation"
   ]
  },
  {
   "cell_type": "code",
   "execution_count": 9,
   "id": "0bb3da94-e33a-4a50-a755-7a2e1e0adc21",
   "metadata": {
    "tags": []
   },
   "outputs": [
    {
     "name": "stdout",
     "output_type": "stream",
     "text": [
      "True\n"
     ]
    }
   ],
   "source": [
    "class Personne:\n",
    "    def __init__(self, nom, prenom, age):\n",
    "        self._nom = nom\n",
    "        self._prenom = prenom\n",
    "        self._age = age\n",
    "\n",
    "    def isMajeur(self):\n",
    "        return self._age > 18\n",
    "\n",
    "james = Personne(\"Gosling\", \"James\", 66)\n",
    "print(james.isMajeur())\n"
   ]
  },
  {
   "cell_type": "markdown",
   "id": "609aa8e3-ac34-4920-b1d3-baabad5f2d38",
   "metadata": {},
   "source": [
    "## La méthode `__str__`"
   ]
  },
  {
   "cell_type": "code",
   "execution_count": 8,
   "id": "78481a61-e225-428e-920f-d0a162a0bac0",
   "metadata": {},
   "outputs": [
    {
     "name": "stdout",
     "output_type": "stream",
     "text": [
      "Van Rossum Guido 65\n"
     ]
    }
   ],
   "source": [
    "class Personne:\n",
    "    def __init__(self, nom, prenom, age):\n",
    "        self._nom = nom\n",
    "        self._prenom = prenom\n",
    "        self._age = age\n",
    "\n",
    "    def isMajeur(self):\n",
    "        return self._age > 18\n",
    "\n",
    "    def __str__(self):\n",
    "        return f\"{self._nom} {self._prenom} {self._age}\"\n",
    "\n",
    "guido = Personne(\"Van Rossum\", \"Guido\", 65)\n",
    "print(guido)"
   ]
  },
  {
   "cell_type": "markdown",
   "id": "d525d4ed-ffcc-4fd4-9ffd-e750b02e62f7",
   "metadata": {
    "tags": []
   },
   "source": [
    "## L'heritage"
   ]
  },
  {
   "cell_type": "code",
   "execution_count": 4,
   "id": "de4f0e7b-ac88-4f75-8d3e-64f960493ddc",
   "metadata": {
    "tags": []
   },
   "outputs": [
    {
     "name": "stdout",
     "output_type": "stream",
     "text": [
      "Forme\n",
      "Forme\n",
      "Forme\n",
      "Carre LKJH - Carre ABCD - Carre TYUI\n",
      "Forme\n",
      "Forme\n",
      "Egalite  True\n",
      "ABCD\n"
     ]
    }
   ],
   "source": [
    "class Forme:\n",
    "    def __init__(self, name):\n",
    "        print(\"Forme\")\n",
    "        self._name = name\n",
    "\n",
    "class Carre(Forme):\n",
    "    def __init__(self, name, cote):\n",
    "        Forme.__init__(self, name)\n",
    "        self._cote = cote\n",
    "\n",
    "    def __eq__(self, other):\n",
    "        if(not isinstance(other, Carre)):\n",
    "            return False\n",
    "        return self._cote == other._cote \\\n",
    "               and self._name == other._name\n",
    "\n",
    "    def __lt__(self, other):\n",
    "        return self._cote < other._cote\n",
    "\n",
    "    def __str__(self):\n",
    "        return \"Carre {}\".format(self._name)\n",
    "\n",
    "list = (\n",
    "    Carre(\"ABCD\", 5),\n",
    "    Carre(\"TYUI\", 10),\n",
    "    Carre(\"LKJH\", 2)\n",
    ")\n",
    "list = sorted(list)\n",
    "print(*list, sep=\" - \")\n",
    "\n",
    "carreABCD = Carre(\"ABCD\", 5)\n",
    "carreAutre = Carre(\"ABCD\", 5)\n",
    "# Afficher Egalite  True\n",
    "print(\"Egalite \", carreABCD == carreAutre )\n",
    "print(carreABCD._name)"
   ]
  },
  {
   "cell_type": "code",
   "execution_count": null,
   "id": "608e2648-07eb-44fb-b758-84ef95a0af36",
   "metadata": {},
   "outputs": [],
   "source": []
  }
 ],
 "metadata": {
  "kernelspec": {
   "display_name": "Python 3 (ipykernel)",
   "language": "python",
   "name": "python3"
  },
  "language_info": {
   "codemirror_mode": {
    "name": "ipython",
    "version": 3
   },
   "file_extension": ".py",
   "mimetype": "text/x-python",
   "name": "python",
   "nbconvert_exporter": "python",
   "pygments_lexer": "ipython3",
   "version": "3.8.3"
  }
 },
 "nbformat": 4,
 "nbformat_minor": 5
}
