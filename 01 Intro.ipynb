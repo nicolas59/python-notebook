{
 "cells": [
  {
   "cell_type": "markdown",
   "id": "7147ed5d-f4a2-44e9-be9c-787b1153ef2d",
   "metadata": {},
   "source": [
    "# Introduction à Python"
   ]
  },
  {
   "cell_type": "markdown",
   "id": "91481234-9cc2-4487-8a52-59a1b6213de3",
   "metadata": {},
   "source": [
    "## Principes"
   ]
  },
  {
   "cell_type": "code",
   "execution_count": 5,
   "id": "45683835-75ab-4944-83ce-5b5d9c7ebfa2",
   "metadata": {},
   "outputs": [
    {
     "name": "stdout",
     "output_type": "stream",
     "text": [
      "The Zen of Python, by Tim Peters\n",
      "\n",
      "Beautiful is better than ugly.\n",
      "Explicit is better than implicit.\n",
      "Simple is better than complex.\n",
      "Complex is better than complicated.\n",
      "Flat is better than nested.\n",
      "Sparse is better than dense.\n",
      "Readability counts.\n",
      "Special cases aren't special enough to break the rules.\n",
      "Although practicality beats purity.\n",
      "Errors should never pass silently.\n",
      "Unless explicitly silenced.\n",
      "In the face of ambiguity, refuse the temptation to guess.\n",
      "There should be one-- and preferably only one --obvious way to do it.\n",
      "Although that way may not be obvious at first unless you're Dutch.\n",
      "Now is better than never.\n",
      "Although never is often better than *right* now.\n",
      "If the implementation is hard to explain, it's a bad idea.\n",
      "If the implementation is easy to explain, it may be a good idea.\n",
      "Namespaces are one honking great idea -- let's do more of those!\n"
     ]
    }
   ],
   "source": [
    "import this"
   ]
  },
  {
   "cell_type": "markdown",
   "id": "272b7b33-fed3-47d5-8b06-d40c60fe5502",
   "metadata": {},
   "source": [
    "## Mots clés\n",
    "\n",
    "35 mots clés pour comprendre et maitriser le langage"
   ]
  },
  {
   "cell_type": "code",
   "execution_count": 4,
   "id": "560f53ef-96b3-4107-ad52-e9d824438c75",
   "metadata": {},
   "outputs": [
    {
     "name": "stdout",
     "output_type": "stream",
     "text": [
      "False None True and as assert async await break class continue def del elif else except finally for from global if import in is lambda nonlocal not or pass raise return try while with yield\n"
     ]
    },
    {
     "data": {
      "text/plain": [
       "35"
      ]
     },
     "execution_count": 4,
     "metadata": {},
     "output_type": "execute_result"
    }
   ],
   "source": [
    "import keyword\n",
    "print(*keyword.kwlist)\n",
    "len(keyword.kwlist)"
   ]
  },
  {
   "cell_type": "markdown",
   "id": "99b9d521-2adb-4514-914d-9e0f924f029c",
   "metadata": {},
   "source": [
    "## Typage dynamique mais fort"
   ]
  },
  {
   "cell_type": "markdown",
   "id": "93fda97f-fb93-4b16-bce6-5bdf223ccc80",
   "metadata": {},
   "source": [
    "Python détermine dynamiquement les types des variables. \n",
    "Enfin, on ne peut pas additionner des variables de types différents"
   ]
  },
  {
   "cell_type": "code",
   "execution_count": 10,
   "id": "a7c8a264-1009-440d-ada9-e241631b2f0b",
   "metadata": {},
   "outputs": [
    {
     "name": "stdout",
     "output_type": "stream",
     "text": [
      "<class 'int'>\n",
      "<class 'float'>\n",
      "<class 'str'>\n"
     ]
    }
   ],
   "source": [
    "x = 2\n",
    "y = 59.3\n",
    "c = \"Un test\"\n",
    "\n",
    "print(type(x))\n",
    "print(type(y))\n",
    "print(type(c))"
   ]
  },
  {
   "cell_type": "code",
   "execution_count": 9,
   "id": "6b3c7265-d99c-4808-bcc6-c308e2aa4c76",
   "metadata": {},
   "outputs": [
    {
     "ename": "TypeError",
     "evalue": "can only concatenate str (not \"int\") to str",
     "output_type": "error",
     "traceback": [
      "\u001b[0;31m---------------------------------------------------------------------------\u001b[0m",
      "\u001b[0;31mTypeError\u001b[0m                                 Traceback (most recent call last)",
      "\u001b[0;32m/var/folders/4h/2pzybx4n3231mqxf73w1vsdc0000gn/T/ipykernel_13300/2525282387.py\u001b[0m in \u001b[0;36m<module>\u001b[0;34m\u001b[0m\n\u001b[0;32m----> 1\u001b[0;31m \u001b[0mc\u001b[0m \u001b[0;34m+\u001b[0m \u001b[0mx\u001b[0m\u001b[0;34m\u001b[0m\u001b[0;34m\u001b[0m\u001b[0m\n\u001b[0m",
      "\u001b[0;31mTypeError\u001b[0m: can only concatenate str (not \"int\") to str"
     ]
    }
   ],
   "source": [
    "c + x"
   ]
  },
  {
   "cell_type": "markdown",
   "id": "5817b78e-57e6-4032-bb68-83125d2633fa",
   "metadata": {},
   "source": [
    "Mais certaines opérations peuvent fonctionner en combinant des types"
   ]
  },
  {
   "cell_type": "code",
   "execution_count": 11,
   "id": "84c87cc6-a6c8-4b83-8617-c191613f4c2c",
   "metadata": {},
   "outputs": [
    {
     "name": "stdout",
     "output_type": "stream",
     "text": [
      "<class 'float'> 64.3\n"
     ]
    },
    {
     "data": {
      "text/plain": [
       "'Un testUn testUn testUn testUn test'"
      ]
     },
     "execution_count": 11,
     "metadata": {},
     "output_type": "execute_result"
    }
   ],
   "source": [
    "z = x + y\n",
    "print(type(z), z)\n",
    "\n",
    "c * x"
   ]
  },
  {
   "cell_type": "code",
   "execution_count": 15,
   "id": "0146a46a-a71f-422e-bece-40f6a8695541",
   "metadata": {},
   "outputs": [
    {
     "name": "stdout",
     "output_type": "stream",
     "text": [
      "[10, 10, 10, 10, 10]\n"
     ]
    }
   ],
   "source": [
    "tab = [10] * 5\n",
    "print(tab)"
   ]
  },
  {
   "cell_type": "markdown",
   "id": "5743d8a7-ac66-4f5d-a811-3eb1b79a9e12",
   "metadata": {},
   "source": [
    "## Les chaines de caractères"
   ]
  },
  {
   "cell_type": "code",
   "execution_count": 11,
   "id": "e84bffc0-74e6-4787-a9ee-caa1df3a6360",
   "metadata": {},
   "outputs": [
    {
     "data": {
      "text/plain": [
       "'Hello world'"
      ]
     },
     "execution_count": 11,
     "metadata": {},
     "output_type": "execute_result"
    }
   ],
   "source": [
    "hello = \"Hello\"\n",
    "world = \"world\"\n",
    "hello + \" \" + world"
   ]
  },
  {
   "cell_type": "code",
   "execution_count": 13,
   "id": "8b3c0b14-aedb-4d66-aef2-e8419e2d083c",
   "metadata": {},
   "outputs": [
    {
     "data": {
      "text/plain": [
       "'banane est avant orange'"
      ]
     },
     "execution_count": 13,
     "metadata": {},
     "output_type": "execute_result"
    }
   ],
   "source": [
    "\"orange est avant banane\" if \"orange\"<\"banane\" else \"banane est avant orange\""
   ]
  },
  {
   "cell_type": "code",
   "execution_count": 12,
   "id": "3d895c38-bb91-41ba-838a-65f89e10d140",
   "metadata": {},
   "outputs": [
    {
     "ename": "TypeError",
     "evalue": "can only concatenate str (not \"int\") to str",
     "output_type": "error",
     "traceback": [
      "\u001b[0;31m---------------------------------------------------------------------------\u001b[0m",
      "\u001b[0;31mTypeError\u001b[0m                                 Traceback (most recent call last)",
      "\u001b[0;32m/var/folders/4h/2pzybx4n3231mqxf73w1vsdc0000gn/T/ipykernel_43768/916862083.py\u001b[0m in \u001b[0;36m<module>\u001b[0;34m\u001b[0m\n\u001b[1;32m      1\u001b[0m \u001b[0mtemperature\u001b[0m \u001b[0;34m=\u001b[0m \u001b[0;36m10\u001b[0m\u001b[0;34m\u001b[0m\u001b[0;34m\u001b[0m\u001b[0m\n\u001b[0;32m----> 2\u001b[0;31m \u001b[0;34m\"il fait une temperature de \"\u001b[0m \u001b[0;34m+\u001b[0m \u001b[0mtemperature\u001b[0m\u001b[0;34m\u001b[0m\u001b[0;34m\u001b[0m\u001b[0m\n\u001b[0m",
      "\u001b[0;31mTypeError\u001b[0m: can only concatenate str (not \"int\") to str"
     ]
    }
   ],
   "source": [
    "temperature = 10\n",
    "\"il fait une temperature de \" + temperature"
   ]
  },
  {
   "cell_type": "code",
   "execution_count": 10,
   "id": "ca7a3cfc-be29-4100-9e3b-259c53b7acf2",
   "metadata": {},
   "outputs": [
    {
     "data": {
      "text/plain": [
       "'il fait une temperature de 10'"
      ]
     },
     "execution_count": 10,
     "metadata": {},
     "output_type": "execute_result"
    }
   ],
   "source": [
    "\"il fait une temperature de \" + str(temperature)"
   ]
  },
  {
   "cell_type": "code",
   "execution_count": 3,
   "id": "e644c512-df61-47e7-b7b4-252198c54f91",
   "metadata": {
    "tags": []
   },
   "outputs": [
    {
     "name": "stdout",
     "output_type": "stream",
     "text": [
      "Hello Nicolas ! ----- autre ligne\n"
     ]
    }
   ],
   "source": [
    "name = \"Nicolas\"\n",
    "print(\"Hello\", name, \"!\", end=' ----- ')\n",
    "print(\"autre ligne\")"
   ]
  },
  {
   "cell_type": "code",
   "execution_count": 8,
   "id": "af502294-063e-4e80-85fa-76365603e51f",
   "metadata": {},
   "outputs": [
    {
     "name": "stdout",
     "output_type": "stream",
     "text": [
      "Caractére : N\n",
      "Caractére : i\n",
      "Caractére : c\n",
      "Caractére : o\n",
      "Caractére : l\n",
      "Caractére : a\n",
      "Caractére : s\n",
      "Caractère à la position 3 : o\n"
     ]
    }
   ],
   "source": [
    "# Une chaine de caractères peut se manipuler comme un tableau\n",
    "for c in name:\n",
    "    print(f\"Caractére : {c}\")\n",
    "    \n",
    "print(f\"Caractère à la position 3 : {name[3]}\")"
   ]
  },
  {
   "cell_type": "code",
   "execution_count": 25,
   "id": "cb905d43-7b53-4d3d-b6d6-c0b9b9097811",
   "metadata": {},
   "outputs": [
    {
     "name": "stdout",
     "output_type": "stream",
     "text": [
      "\n",
      " La Cigale, ayant chanté\n",
      " Tout l'Été,\n",
      " Se trouva fort dépourvue\n",
      " Quand la bise fut venue.\n",
      " Pas un seul petit morceau\n",
      " ...\n",
      " \n"
     ]
    }
   ],
   "source": [
    "une_grande_chaine = \"\"\"\n",
    " La Cigale, ayant chanté\n",
    " Tout l'Été,\n",
    " Se trouva fort dépourvue\n",
    " Quand la bise fut venue.\n",
    " Pas un seul petit morceau\n",
    " ...\n",
    " \"\"\"\n",
    "\n",
    "print(une_grande_chaine)"
   ]
  },
  {
   "cell_type": "markdown",
   "id": "2362dbd0-1b44-4e2d-94f6-178348d9be11",
   "metadata": {},
   "source": [
    "## Les tableaux"
   ]
  },
  {
   "cell_type": "code",
   "execution_count": 28,
   "id": "2ed86bdf-cc0c-444b-af1d-be72eb78305a",
   "metadata": {},
   "outputs": [
    {
     "name": "stdout",
     "output_type": "stream",
     "text": [
      "[0, 2, 4, 6, 8]\n"
     ]
    }
   ],
   "source": [
    "les_chiffres_pairs = [0,2,4,6,8]\n",
    "print(les_chiffres_pairs)"
   ]
  },
  {
   "cell_type": "code",
   "execution_count": 30,
   "id": "40b6e4d5-89d1-4d05-b357-49f13d39895c",
   "metadata": {},
   "outputs": [
    {
     "data": {
      "text/plain": [
       "2"
      ]
     },
     "execution_count": 30,
     "metadata": {},
     "output_type": "execute_result"
    }
   ],
   "source": [
    "les_chiffres_pairs[1]"
   ]
  },
  {
   "cell_type": "code",
   "execution_count": 31,
   "id": "84f9e742-1a87-4ee2-832d-2e52112454bf",
   "metadata": {},
   "outputs": [
    {
     "data": {
      "text/plain": [
       "8"
      ]
     },
     "execution_count": 31,
     "metadata": {},
     "output_type": "execute_result"
    }
   ],
   "source": [
    "les_chiffres_pairs[-1]"
   ]
  },
  {
   "cell_type": "code",
   "execution_count": 32,
   "id": "213299e4-04ca-4055-a934-4df946e7d745",
   "metadata": {},
   "outputs": [
    {
     "data": {
      "text/plain": [
       "5"
      ]
     },
     "execution_count": 32,
     "metadata": {},
     "output_type": "execute_result"
    }
   ],
   "source": [
    "len(les_chiffres_pairs)"
   ]
  },
  {
   "cell_type": "code",
   "execution_count": 33,
   "id": "392417ba-2534-4182-8832-20e04eae6fcd",
   "metadata": {},
   "outputs": [
    {
     "data": {
      "text/plain": [
       "[0, 2]"
      ]
     },
     "execution_count": 33,
     "metadata": {},
     "output_type": "execute_result"
    }
   ],
   "source": [
    "les_chiffres_pairs[:2]"
   ]
  },
  {
   "cell_type": "code",
   "execution_count": 34,
   "id": "cecb3a39-4ab7-418f-aa0c-7c26832c1310",
   "metadata": {},
   "outputs": [
    {
     "data": {
      "text/plain": [
       "[0, 2, 4]"
      ]
     },
     "execution_count": 34,
     "metadata": {},
     "output_type": "execute_result"
    }
   ],
   "source": [
    "les_chiffres_pairs[0:3]"
   ]
  },
  {
   "cell_type": "code",
   "execution_count": 44,
   "id": "3de65794-0578-4669-8362-5c48980b5d69",
   "metadata": {},
   "outputs": [
    {
     "name": "stdout",
     "output_type": "stream",
     "text": [
      "['orange', 'cerise', 'melon', 'fraise']\n"
     ]
    }
   ],
   "source": [
    "fruits = [\"orange\", \"cerise\", \"melon\"]\n",
    "fruits.append(\"fraise\")\n",
    "print(fruits)"
   ]
  },
  {
   "cell_type": "code",
   "execution_count": 45,
   "id": "ba9e9ecd-6017-494a-a11d-4199c023f169",
   "metadata": {},
   "outputs": [
    {
     "name": "stdout",
     "output_type": "stream",
     "text": [
      "['cerise', 'fraise', 'melon', 'orange']\n"
     ]
    }
   ],
   "source": [
    "fruits.sort()\n",
    "print(fruits)"
   ]
  },
  {
   "cell_type": "code",
   "execution_count": 46,
   "id": "591a26e8-b795-4281-a4c5-fd47d12365d5",
   "metadata": {},
   "outputs": [
    {
     "name": "stdout",
     "output_type": "stream",
     "text": [
      "['orange', 'melon', 'fraise', 'cerise']\n"
     ]
    }
   ],
   "source": [
    "fruits.reverse()\n",
    "print(fruits)"
   ]
  },
  {
   "cell_type": "code",
   "execution_count": 47,
   "id": "e5083b9f-41fa-42c9-8676-000534b930a6",
   "metadata": {},
   "outputs": [
    {
     "name": "stdout",
     "output_type": "stream",
     "text": [
      "['orange', 'cerise', 'melon', 'fraise', 'clémentine', 'cerise']\n"
     ]
    }
   ],
   "source": [
    "fruits.insert(3, \"clémentine\")\n",
    "fruits.insert(1, \"cerise\")\n",
    "print(fruits)"
   ]
  },
  {
   "cell_type": "code",
   "execution_count": 48,
   "id": "95f32d0c-3e3c-4b1d-b620-00ca474691fc",
   "metadata": {},
   "outputs": [
    {
     "data": {
      "text/plain": [
       "2"
      ]
     },
     "execution_count": 48,
     "metadata": {},
     "output_type": "execute_result"
    }
   ],
   "source": [
    "fruits.count(\"cerise\")"
   ]
  },
  {
   "cell_type": "markdown",
   "id": "54157016-b871-48be-873f-1ccbfd442e94",
   "metadata": {},
   "source": [
    "## Les tuples"
   ]
  },
  {
   "cell_type": "code",
   "execution_count": 41,
   "id": "c8e49045-336c-4d64-ba94-256f0d145c49",
   "metadata": {},
   "outputs": [
    {
     "name": "stdout",
     "output_type": "stream",
     "text": [
      "('courgette', 'tomate', 'oignon', 'poivron', 'aubergine')\n"
     ]
    }
   ],
   "source": [
    "ingredient_ratatouille = (\"courgette\", \n",
    "                          \"tomate\", \n",
    "                          \"oignon\", \n",
    "                          \"poivron\", \n",
    "                          \"aubergine\")\n",
    "print(ingredient_ratatouille)"
   ]
  },
  {
   "cell_type": "code",
   "execution_count": 39,
   "id": "bc35c510-aa6a-45ea-b79d-b874f7d5cf3d",
   "metadata": {},
   "outputs": [
    {
     "data": {
      "text/plain": [
       "'oignon'"
      ]
     },
     "execution_count": 39,
     "metadata": {},
     "output_type": "execute_result"
    }
   ],
   "source": [
    "ingredient_ratatouille[2]"
   ]
  },
  {
   "cell_type": "code",
   "execution_count": 40,
   "id": "44f77292-cdc6-48c4-b91b-58dfb7873d7d",
   "metadata": {},
   "outputs": [
    {
     "ename": "TypeError",
     "evalue": "'tuple' object does not support item assignment",
     "output_type": "error",
     "traceback": [
      "\u001b[0;31m---------------------------------------------------------------------------\u001b[0m",
      "\u001b[0;31mTypeError\u001b[0m                                 Traceback (most recent call last)",
      "\u001b[0;32m/var/folders/4h/2pzybx4n3231mqxf73w1vsdc0000gn/T/ipykernel_43768/2528664724.py\u001b[0m in \u001b[0;36m<module>\u001b[0;34m\u001b[0m\n\u001b[0;32m----> 1\u001b[0;31m \u001b[0mingredient_ratatouille\u001b[0m\u001b[0;34m[\u001b[0m\u001b[0;36m1\u001b[0m\u001b[0;34m]\u001b[0m\u001b[0;34m=\u001b[0m \u001b[0;34m\"Carotte\"\u001b[0m\u001b[0;34m\u001b[0m\u001b[0;34m\u001b[0m\u001b[0m\n\u001b[0m",
      "\u001b[0;31mTypeError\u001b[0m: 'tuple' object does not support item assignment"
     ]
    }
   ],
   "source": [
    "ingredient_ratatouille[1]= \"Carotte\""
   ]
  },
  {
   "cell_type": "markdown",
   "id": "2c4a3179-763d-4e99-9826-913861fee05d",
   "metadata": {},
   "source": [
    "## Les dictionnaires"
   ]
  },
  {
   "cell_type": "code",
   "execution_count": 6,
   "id": "e507006f-3f92-430a-bba9-8512bd499403",
   "metadata": {},
   "outputs": [
    {
     "name": "stdout",
     "output_type": "stream",
     "text": [
      "Guido van Rossum\n"
     ]
    }
   ],
   "source": [
    "authors = {\"Java\": \"James Gosling\",\n",
    "           \"Javascript\": \"Brendan Eich\",\n",
    "           \"Python\": \"Guido van Rossum\",\n",
    "           \"C\": \"Dennis Ritchie\"}\n",
    "print(authors[\"Python\"])\n"
   ]
  },
  {
   "cell_type": "markdown",
   "id": "040e88f2-82ce-429a-b719-339fa4342659",
   "metadata": {
    "tags": []
   },
   "source": [
    "## La méthode `input`"
   ]
  },
  {
   "cell_type": "code",
   "execution_count": 7,
   "id": "3f2efd7f-5d0f-46e3-9e52-6db7c22f4e39",
   "metadata": {},
   "outputs": [],
   "source": [
    "def somme(a, b = 3):\n",
    "    return a + b\n",
    "\n",
    "def concat(* items):\n",
    "    buffer = \"\"\n",
    "    for item in items:\n",
    "        buffer += \" \" + item\n",
    "    return buffer.strip()"
   ]
  },
  {
   "cell_type": "code",
   "execution_count": 9,
   "id": "43f42248-060f-443d-bbd9-6263b9c6aa4c",
   "metadata": {},
   "outputs": [
    {
     "name": "stdout",
     "output_type": "stream",
     "text": [
      "Je peux concatener un nombre indéfini de valeurs\n",
      "8\n",
      "Une chaine...\n"
     ]
    }
   ],
   "source": [
    "ret =  concat(\"Je\", \"peux\", \"concatener\", \"un\", \"nombre indéfini de valeurs\")\n",
    "\n",
    "print(ret)\n",
    "print(somme(5))\n",
    "print(somme(\"Une chaine\", \"...\"))"
   ]
  },
  {
   "cell_type": "code",
   "execution_count": 11,
   "id": "f4cec466-294c-4047-a1bb-5235ed7eb8b0",
   "metadata": {},
   "outputs": [
    {
     "name": "stdout",
     "output_type": "stream",
     "text": [
      "Nombre impaire\n",
      "Vapeur\n"
     ]
    }
   ],
   "source": [
    "a = 11\n",
    "if a%2==0:\n",
    "    print(\"Nombre paire\")\n",
    "else:\n",
    "    print(\"Nombre impaire\")\n",
    "\n",
    "temp_eau = 140\n",
    "if temp_eau < 0:\n",
    "    print(\"Glace\")\n",
    "elif temp_eau> 100:\n",
    "    print(\"Vapeur\")\n",
    "else:\n",
    "    print(\"Liquide\")\n"
   ]
  },
  {
   "cell_type": "code",
   "execution_count": 12,
   "id": "e49a17bd-92b5-4e6b-85d4-46eec7d16fc3",
   "metadata": {},
   "outputs": [
    {
     "name": "stdout",
     "output_type": "stream",
     "text": [
      "5\n",
      "4\n",
      "3\n",
      "2\n",
      "1\n"
     ]
    }
   ],
   "source": [
    "i = 5\n",
    "while not i == 0:\n",
    "    print(i)\n",
    "    i-=1"
   ]
  },
  {
   "cell_type": "code",
   "execution_count": 13,
   "id": "3cad22ab-6c53-463e-a302-e4e35b7d5897",
   "metadata": {},
   "outputs": [
    {
     "name": "stdout",
     "output_type": "stream",
     "text": [
      "bleu\n",
      "vert\n",
      "orange\n"
     ]
    }
   ],
   "source": [
    "couleurs = (\"bleu\", \"vert\", \"orange\")\n",
    "for couleur in couleurs:\n",
    "    print(couleur)"
   ]
  },
  {
   "cell_type": "code",
   "execution_count": 14,
   "id": "46a4368a-bc8e-40f5-a5a1-c0e7345c922e",
   "metadata": {},
   "outputs": [
    {
     "name": "stdout",
     "output_type": "stream",
     "text": [
      "0 2 4 6 8 10 12 14 16 18\n"
     ]
    }
   ],
   "source": [
    "nombres_pairs = []\n",
    "for nb in range(20):\n",
    "    if nb % 2 == 0:\n",
    "        nombres_pairs.append(nb)\n",
    "print(*nombres_pairs)"
   ]
  },
  {
   "cell_type": "code",
   "execution_count": 15,
   "id": "37148dd6-5df0-4c91-9e01-95b1cb3526a9",
   "metadata": {},
   "outputs": [],
   "source": [
    "nombres_pairs = [item for item in range(20) if item % 2]"
   ]
  },
  {
   "cell_type": "code",
   "execution_count": 16,
   "id": "b8e06f8b-62b3-4e44-aef9-a6b9649c5247",
   "metadata": {},
   "outputs": [],
   "source": [
    "nombres =  [item for item in range(20) if item % 2]"
   ]
  },
  {
   "cell_type": "code",
   "execution_count": 17,
   "id": "7b0d73f1-82ec-404f-8339-927c4173a8ad",
   "metadata": {},
   "outputs": [],
   "source": [
    "import math\n",
    "\n",
    "def est_premier(nb):\n",
    "    return not nb == 1 and len([item for item in range(2, int(math.sqrt(nb))+1) if nb % item == 0]) == 0\n"
   ]
  },
  {
   "cell_type": "code",
   "execution_count": 18,
   "id": "0df4599c-67b2-4a5f-acf6-2806332886bf",
   "metadata": {},
   "outputs": [],
   "source": [
    "def pgcd(a,b):\n",
    "    while b != 0:\n",
    "        a,b = b, a%b\n",
    "    return a"
   ]
  },
  {
   "cell_type": "code",
   "execution_count": 19,
   "id": "9e2cc0e4-bbab-4646-9113-e605dc19fcec",
   "metadata": {},
   "outputs": [
    {
     "name": "stdout",
     "output_type": "stream",
     "text": [
      "False\n",
      "False\n",
      "True\n",
      "True\n",
      "5\n",
      "1\n"
     ]
    }
   ],
   "source": [
    "print(est_premier(1))\n",
    "print(est_premier(6))\n",
    "print(est_premier(3))\n",
    "print(est_premier(23))\n",
    "\n",
    "print(pgcd(10, 5))\n",
    "print(pgcd(33, 4))"
   ]
  },
  {
   "cell_type": "code",
   "execution_count": null,
   "id": "460d35a1-73eb-46a0-a398-7f86b4f15537",
   "metadata": {},
   "outputs": [
    {
     "name": "stdout",
     "output_type": "stream",
     "text": [
      "True\n",
      "Van Rossum Guido 65\n"
     ]
    }
   ],
   "source": []
  },
  {
   "cell_type": "code",
   "execution_count": null,
   "id": "b727d11e-0ff1-4b91-b2cd-b9f945829cbe",
   "metadata": {},
   "outputs": [],
   "source": []
  }
 ],
 "metadata": {
  "kernelspec": {
   "display_name": "Python 3 (ipykernel)",
   "language": "python",
   "name": "python3"
  },
  "language_info": {
   "codemirror_mode": {
    "name": "ipython",
    "version": 3
   },
   "file_extension": ".py",
   "mimetype": "text/x-python",
   "name": "python",
   "nbconvert_exporter": "python",
   "pygments_lexer": "ipython3",
   "version": "3.8.3"
  },
  "toc-autonumbering": false,
  "toc-showcode": true,
  "toc-showmarkdowntxt": false,
  "toc-showtags": false
 },
 "nbformat": 4,
 "nbformat_minor": 5
}
